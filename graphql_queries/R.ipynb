{
 "cells": [
  {
   "cell_type": "code",
   "execution_count": 12,
   "metadata": {},
   "outputs": [],
   "source": [
    "selected_variant_a = \"2_97032743_A_C\"\n",
    "selected_variant_b = \"1_154453788_C_T\""
   ]
  },
  {
   "cell_type": "code",
   "execution_count": 11,
   "metadata": {},
   "outputs": [],
   "source": [
    "#devtools::install_github(\"ropensci/ghql\")\n",
    "#install.packages(\"jsonlite\")\n",
    "library(jsonlite)\n",
    "library(ghql)\n"
   ]
  },
  {
   "cell_type": "code",
   "execution_count": 13,
   "metadata": {},
   "outputs": [],
   "source": [
    "cli <- GraphqlClient$new(\n",
    "  url = \"https://genetics-api.opentargets.io/graphql\"\n",
    ")"
   ]
  },
  {
   "cell_type": "code",
   "execution_count": 14,
   "metadata": {},
   "outputs": [],
   "source": [
    "# open targets provides example queries https://github.com/opentargets/genetics-api/blob/f75567c2440255478bef7269ba4c268a34d59d1e/example_queries.txt which can be inserted into function instead\n",
    "getVariantInfo = function(variant) {\n",
    "  cat(\"Getting info for\", variant,\"\\n\")\n",
    "  query_name = paste0(\"query_\",variant)\n",
    "  qry = Query$new()\n",
    "  query = paste0('{\n",
    "    indexVariantsAndStudiesForTagVariant(variantId:\"',variant,'\") {\n",
    "      associations {\n",
    "        indexVariant {id,rsId},\n",
    "        study {studyId,pmid,pubAuthor, pubDate, traitReported},\n",
    "        pval,\n",
    "        beta,\n",
    "        betaCILower,\n",
    "        betaCIUpper,\n",
    "        oddsRatio,\n",
    "  \t\t\toddsRatioCILower,\n",
    "        oddsRatioCIUpper,\n",
    "        nTotal,\n",
    "        overallR2,\n",
    "        posteriorProbability\n",
    "      }\n",
    "    }\n",
    "  }')\n",
    "  qry$query(query_name, query)\n",
    "  res <- fromJSON(cli$exec(qry$queries[[query_name]]), flatten = TRUE)$data$indexVariantsAndStudiesForTagVariant[[1]]\n",
    "  if (class(res)==\"data.frame\") {\n",
    "    res$input_variant = variant\n",
    "    write.csv(res, paste0(variant, \"_info.csv\"),row.names = FALSE)\n",
    "  }\n",
    "  return(res)\n",
    "}"
   ]
  },
  {
   "cell_type": "code",
   "execution_count": 15,
   "metadata": {},
   "outputs": [
    {
     "name": "stdout",
     "output_type": "stream",
     "text": [
      "Getting info for 2_97032743_A_C \n"
     ]
    },
    {
     "data": {
      "text/html": [
       "<table>\n",
       "<caption>A data.frame: 4 × 18</caption>\n",
       "<thead>\n",
       "\t<tr><th></th><th scope=col>pval</th><th scope=col>beta</th><th scope=col>betaCILower</th><th scope=col>betaCIUpper</th><th scope=col>oddsRatio</th><th scope=col>oddsRatioCILower</th><th scope=col>oddsRatioCIUpper</th><th scope=col>nTotal</th><th scope=col>overallR2</th><th scope=col>posteriorProbability</th><th scope=col>indexVariant.id</th><th scope=col>indexVariant.rsId</th><th scope=col>study.studyId</th><th scope=col>study.pmid</th><th scope=col>study.pubAuthor</th><th scope=col>study.pubDate</th><th scope=col>study.traitReported</th><th scope=col>input_variant</th></tr>\n",
       "\t<tr><th></th><th scope=col>&lt;dbl&gt;</th><th scope=col>&lt;dbl&gt;</th><th scope=col>&lt;dbl&gt;</th><th scope=col>&lt;dbl&gt;</th><th scope=col>&lt;lgl&gt;</th><th scope=col>&lt;lgl&gt;</th><th scope=col>&lt;lgl&gt;</th><th scope=col>&lt;int&gt;</th><th scope=col>&lt;int&gt;</th><th scope=col>&lt;dbl&gt;</th><th scope=col>&lt;chr&gt;</th><th scope=col>&lt;chr&gt;</th><th scope=col>&lt;chr&gt;</th><th scope=col>&lt;chr&gt;</th><th scope=col>&lt;chr&gt;</th><th scope=col>&lt;chr&gt;</th><th scope=col>&lt;chr&gt;</th><th scope=col>&lt;chr&gt;</th></tr>\n",
       "</thead>\n",
       "<tbody>\n",
       "\t<tr><th scope=row>1</th><td>1.26774e-19</td><td>-0.06099490</td><td>-0.07418496</td><td>-0.04780484</td><td>NA</td><td>NA</td><td>NA</td><td>349861</td><td>NA</td><td>0.075763861</td><td>2_95848679_C_T  </td><td>rs13406335 </td><td>NEALE2_30210_raw</td><td>NA           </td><td>UKB Neale v2</td><td>2018-08-01</td><td>Eosinophill percentage</td><td>2_97032743_A_C</td></tr>\n",
       "\t<tr><th scope=row>2</th><td>1.88200e-25</td><td> 0.03926506</td><td> 0.03188372</td><td> 0.04664640</td><td>NA</td><td>NA</td><td>NA</td><td>172275</td><td>NA</td><td>0.001876046</td><td>2_96479597_T_TTG</td><td>rs113359549</td><td>GCST004606      </td><td>PMID:27863252</td><td>Astle WJ    </td><td>2016-11-17</td><td>Eosinophil counts     </td><td>2_97032743_A_C</td></tr>\n",
       "\t<tr><th scope=row>3</th><td>1.25229e-26</td><td>-0.02764780</td><td>-0.03272097</td><td>-0.02257463</td><td>NA</td><td>NA</td><td>NA</td><td>349856</td><td> 1</td><td>0.758755024</td><td>2_97032743_A_C  </td><td>rs13005320 </td><td>NEALE2_30150    </td><td>NA           </td><td>UKB Neale v2</td><td>2018-08-01</td><td>Eosinophill count     </td><td>2_97032743_A_C</td></tr>\n",
       "\t<tr><th scope=row>4</th><td>1.01693e-24</td><td>-0.05369740</td><td>-0.06394994</td><td>-0.04344486</td><td>NA</td><td>NA</td><td>NA</td><td>349861</td><td>NA</td><td>0.027776524</td><td>2_97973620_T_A  </td><td>rs905484   </td><td>NEALE2_30210_raw</td><td>NA           </td><td>UKB Neale v2</td><td>2018-08-01</td><td>Eosinophill percentage</td><td>2_97032743_A_C</td></tr>\n",
       "</tbody>\n",
       "</table>\n"
      ],
      "text/latex": [
       "A data.frame: 4 × 18\n",
       "\\begin{tabular}{r|llllllllllllllllll}\n",
       "  & pval & beta & betaCILower & betaCIUpper & oddsRatio & oddsRatioCILower & oddsRatioCIUpper & nTotal & overallR2 & posteriorProbability & indexVariant.id & indexVariant.rsId & study.studyId & study.pmid & study.pubAuthor & study.pubDate & study.traitReported & input\\_variant\\\\\n",
       "  & <dbl> & <dbl> & <dbl> & <dbl> & <lgl> & <lgl> & <lgl> & <int> & <int> & <dbl> & <chr> & <chr> & <chr> & <chr> & <chr> & <chr> & <chr> & <chr>\\\\\n",
       "\\hline\n",
       "\t1 & 1.26774e-19 & -0.06099490 & -0.07418496 & -0.04780484 & NA & NA & NA & 349861 & NA & 0.075763861 & 2\\_95848679\\_C\\_T   & rs13406335  & NEALE2\\_30210\\_raw & NA            & UKB Neale v2 & 2018-08-01 & Eosinophill percentage & 2\\_97032743\\_A\\_C\\\\\n",
       "\t2 & 1.88200e-25 &  0.03926506 &  0.03188372 &  0.04664640 & NA & NA & NA & 172275 & NA & 0.001876046 & 2\\_96479597\\_T\\_TTG & rs113359549 & GCST004606       & PMID:27863252 & Astle WJ     & 2016-11-17 & Eosinophil counts      & 2\\_97032743\\_A\\_C\\\\\n",
       "\t3 & 1.25229e-26 & -0.02764780 & -0.03272097 & -0.02257463 & NA & NA & NA & 349856 &  1 & 0.758755024 & 2\\_97032743\\_A\\_C   & rs13005320  & NEALE2\\_30150     & NA            & UKB Neale v2 & 2018-08-01 & Eosinophill count      & 2\\_97032743\\_A\\_C\\\\\n",
       "\t4 & 1.01693e-24 & -0.05369740 & -0.06394994 & -0.04344486 & NA & NA & NA & 349861 & NA & 0.027776524 & 2\\_97973620\\_T\\_A   & rs905484    & NEALE2\\_30210\\_raw & NA            & UKB Neale v2 & 2018-08-01 & Eosinophill percentage & 2\\_97032743\\_A\\_C\\\\\n",
       "\\end{tabular}\n"
      ],
      "text/markdown": [
       "\n",
       "A data.frame: 4 × 18\n",
       "\n",
       "| <!--/--> | pval &lt;dbl&gt; | beta &lt;dbl&gt; | betaCILower &lt;dbl&gt; | betaCIUpper &lt;dbl&gt; | oddsRatio &lt;lgl&gt; | oddsRatioCILower &lt;lgl&gt; | oddsRatioCIUpper &lt;lgl&gt; | nTotal &lt;int&gt; | overallR2 &lt;int&gt; | posteriorProbability &lt;dbl&gt; | indexVariant.id &lt;chr&gt; | indexVariant.rsId &lt;chr&gt; | study.studyId &lt;chr&gt; | study.pmid &lt;chr&gt; | study.pubAuthor &lt;chr&gt; | study.pubDate &lt;chr&gt; | study.traitReported &lt;chr&gt; | input_variant &lt;chr&gt; |\n",
       "|---|---|---|---|---|---|---|---|---|---|---|---|---|---|---|---|---|---|---|\n",
       "| 1 | 1.26774e-19 | -0.06099490 | -0.07418496 | -0.04780484 | NA | NA | NA | 349861 | NA | 0.075763861 | 2_95848679_C_T   | rs13406335  | NEALE2_30210_raw | NA            | UKB Neale v2 | 2018-08-01 | Eosinophill percentage | 2_97032743_A_C |\n",
       "| 2 | 1.88200e-25 |  0.03926506 |  0.03188372 |  0.04664640 | NA | NA | NA | 172275 | NA | 0.001876046 | 2_96479597_T_TTG | rs113359549 | GCST004606       | PMID:27863252 | Astle WJ     | 2016-11-17 | Eosinophil counts      | 2_97032743_A_C |\n",
       "| 3 | 1.25229e-26 | -0.02764780 | -0.03272097 | -0.02257463 | NA | NA | NA | 349856 |  1 | 0.758755024 | 2_97032743_A_C   | rs13005320  | NEALE2_30150     | NA            | UKB Neale v2 | 2018-08-01 | Eosinophill count      | 2_97032743_A_C |\n",
       "| 4 | 1.01693e-24 | -0.05369740 | -0.06394994 | -0.04344486 | NA | NA | NA | 349861 | NA | 0.027776524 | 2_97973620_T_A   | rs905484    | NEALE2_30210_raw | NA            | UKB Neale v2 | 2018-08-01 | Eosinophill percentage | 2_97032743_A_C |\n",
       "\n"
      ],
      "text/plain": [
       "  pval        beta        betaCILower betaCIUpper oddsRatio oddsRatioCILower\n",
       "1 1.26774e-19 -0.06099490 -0.07418496 -0.04780484 NA        NA              \n",
       "2 1.88200e-25  0.03926506  0.03188372  0.04664640 NA        NA              \n",
       "3 1.25229e-26 -0.02764780 -0.03272097 -0.02257463 NA        NA              \n",
       "4 1.01693e-24 -0.05369740 -0.06394994 -0.04344486 NA        NA              \n",
       "  oddsRatioCIUpper nTotal overallR2 posteriorProbability indexVariant.id \n",
       "1 NA               349861 NA        0.075763861          2_95848679_C_T  \n",
       "2 NA               172275 NA        0.001876046          2_96479597_T_TTG\n",
       "3 NA               349856  1        0.758755024          2_97032743_A_C  \n",
       "4 NA               349861 NA        0.027776524          2_97973620_T_A  \n",
       "  indexVariant.rsId study.studyId    study.pmid    study.pubAuthor\n",
       "1 rs13406335        NEALE2_30210_raw NA            UKB Neale v2   \n",
       "2 rs113359549       GCST004606       PMID:27863252 Astle WJ       \n",
       "3 rs13005320        NEALE2_30150     NA            UKB Neale v2   \n",
       "4 rs905484          NEALE2_30210_raw NA            UKB Neale v2   \n",
       "  study.pubDate study.traitReported    input_variant \n",
       "1 2018-08-01    Eosinophill percentage 2_97032743_A_C\n",
       "2 2016-11-17    Eosinophil counts      2_97032743_A_C\n",
       "3 2018-08-01    Eosinophill count      2_97032743_A_C\n",
       "4 2018-08-01    Eosinophill percentage 2_97032743_A_C"
      ]
     },
     "metadata": {},
     "output_type": "display_data"
    }
   ],
   "source": [
    "getVariantInfo(selected_variant_a)"
   ]
  },
  {
   "cell_type": "code",
   "execution_count": 16,
   "metadata": {},
   "outputs": [
    {
     "name": "stdout",
     "output_type": "stream",
     "text": [
      "Getting info for 1_154453788_C_T \n"
     ]
    },
    {
     "data": {
      "text/html": [
       "<table>\n",
       "<caption>A data.frame: 6 × 18</caption>\n",
       "<thead>\n",
       "\t<tr><th></th><th scope=col>pval</th><th scope=col>beta</th><th scope=col>betaCILower</th><th scope=col>betaCIUpper</th><th scope=col>oddsRatio</th><th scope=col>oddsRatioCILower</th><th scope=col>oddsRatioCIUpper</th><th scope=col>nTotal</th><th scope=col>overallR2</th><th scope=col>posteriorProbability</th><th scope=col>indexVariant.id</th><th scope=col>indexVariant.rsId</th><th scope=col>study.studyId</th><th scope=col>study.pmid</th><th scope=col>study.pubAuthor</th><th scope=col>study.pubDate</th><th scope=col>study.traitReported</th><th scope=col>input_variant</th></tr>\n",
       "\t<tr><th></th><th scope=col>&lt;dbl&gt;</th><th scope=col>&lt;dbl&gt;</th><th scope=col>&lt;dbl&gt;</th><th scope=col>&lt;dbl&gt;</th><th scope=col>&lt;dbl&gt;</th><th scope=col>&lt;dbl&gt;</th><th scope=col>&lt;dbl&gt;</th><th scope=col>&lt;int&gt;</th><th scope=col>&lt;dbl&gt;</th><th scope=col>&lt;dbl&gt;</th><th scope=col>&lt;chr&gt;</th><th scope=col>&lt;chr&gt;</th><th scope=col>&lt;chr&gt;</th><th scope=col>&lt;chr&gt;</th><th scope=col>&lt;chr&gt;</th><th scope=col>&lt;chr&gt;</th><th scope=col>&lt;chr&gt;</th><th scope=col>&lt;chr&gt;</th></tr>\n",
       "</thead>\n",
       "<tbody>\n",
       "\t<tr><th scope=row>1</th><td>1.00000e-15</td><td>0.08527000</td><td>0.064340140</td><td>0.106199860</td><td>      NA</td><td>     NA</td><td>      NA</td><td>350473</td><td>0.7998190</td><td>NA</td><td>1_154422736_C_A</td><td>rs4133213 </td><td>NEALE2_30040_raw </td><td>NA</td><td>UKB Neale v2</td><td>2018-08-01</td><td>Mean corpuscular volume                                   </td><td>1_154453788_C_T</td></tr>\n",
       "\t<tr><th scope=row>2</th><td>3.37230e-11</td><td>0.02949380</td><td>0.020774054</td><td>0.038213546</td><td>      NA</td><td>     NA</td><td>      NA</td><td>350472</td><td>0.7998190</td><td>NA</td><td>1_154422736_C_A</td><td>rs4133213 </td><td>NEALE2_30050_raw </td><td>NA</td><td>UKB Neale v2</td><td>2018-08-01</td><td>Mean corpuscular haemoglobin                              </td><td>1_154453788_C_T</td></tr>\n",
       "\t<tr><th scope=row>3</th><td>8.71337e-09</td><td>        NA</td><td>         NA</td><td>         NA</td><td>1.092253</td><td>1.05991</td><td>1.125582</td><td>361141</td><td>0.9008478</td><td>NA</td><td>1_154423363_C_T</td><td>rs6684439 </td><td>NEALE2_20002_1452</td><td>NA</td><td>UKB Neale v2</td><td>2018-08-01</td><td>Eczema/dermatitis | non-cancer illness code, self-reported</td><td>1_154453788_C_T</td></tr>\n",
       "\t<tr><th scope=row>4</th><td>5.24900e-11</td><td>0.00346153</td><td>0.002427906</td><td>0.004495154</td><td>      NA</td><td>     NA</td><td>      NA</td><td>349856</td><td>0.9344045</td><td>NA</td><td>1_154432548_A_G</td><td>rs56383622</td><td>NEALE2_30130_raw </td><td>NA</td><td>UKB Neale v2</td><td>2018-08-01</td><td>Monocyte count                                            </td><td>1_154453788_C_T</td></tr>\n",
       "\t<tr><th scope=row>5</th><td>2.37000e-13</td><td>0.04726770</td><td>0.034621819</td><td>0.059913581</td><td>      NA</td><td>     NA</td><td>      NA</td><td>349861</td><td>0.9344045</td><td>NA</td><td>1_154432548_A_G</td><td>rs56383622</td><td>NEALE2_30190_raw </td><td>NA</td><td>UKB Neale v2</td><td>2018-08-01</td><td>Monocyte percentage                                       </td><td>1_154453788_C_T</td></tr>\n",
       "\t<tr><th scope=row>6</th><td>2.39840e-09</td><td>0.07617190</td><td>0.051157400</td><td>0.101186400</td><td>      NA</td><td>     NA</td><td>      NA</td><td>344729</td><td>0.8862283</td><td>NA</td><td>1_154442920_C_A</td><td>rs4845372 </td><td>NEALE2_30270_raw </td><td>NA</td><td>UKB Neale v2</td><td>2018-08-01</td><td>Mean sphered cell volume                                  </td><td>1_154453788_C_T</td></tr>\n",
       "</tbody>\n",
       "</table>\n"
      ],
      "text/latex": [
       "A data.frame: 6 × 18\n",
       "\\begin{tabular}{r|llllllllllllllllll}\n",
       "  & pval & beta & betaCILower & betaCIUpper & oddsRatio & oddsRatioCILower & oddsRatioCIUpper & nTotal & overallR2 & posteriorProbability & indexVariant.id & indexVariant.rsId & study.studyId & study.pmid & study.pubAuthor & study.pubDate & study.traitReported & input\\_variant\\\\\n",
       "  & <dbl> & <dbl> & <dbl> & <dbl> & <dbl> & <dbl> & <dbl> & <int> & <dbl> & <dbl> & <chr> & <chr> & <chr> & <chr> & <chr> & <chr> & <chr> & <chr>\\\\\n",
       "\\hline\n",
       "\t1 & 1.00000e-15 & 0.08527000 & 0.064340140 & 0.106199860 &       NA &      NA &       NA & 350473 & 0.7998190 & NA & 1\\_154422736\\_C\\_A & rs4133213  & NEALE2\\_30040\\_raw  & NA & UKB Neale v2 & 2018-08-01 & Mean corpuscular volume                                    & 1\\_154453788\\_C\\_T\\\\\n",
       "\t2 & 3.37230e-11 & 0.02949380 & 0.020774054 & 0.038213546 &       NA &      NA &       NA & 350472 & 0.7998190 & NA & 1\\_154422736\\_C\\_A & rs4133213  & NEALE2\\_30050\\_raw  & NA & UKB Neale v2 & 2018-08-01 & Mean corpuscular haemoglobin                               & 1\\_154453788\\_C\\_T\\\\\n",
       "\t3 & 8.71337e-09 &         NA &          NA &          NA & 1.092253 & 1.05991 & 1.125582 & 361141 & 0.9008478 & NA & 1\\_154423363\\_C\\_T & rs6684439  & NEALE2\\_20002\\_1452 & NA & UKB Neale v2 & 2018-08-01 & Eczema/dermatitis \\textbar{} non-cancer illness code, self-reported & 1\\_154453788\\_C\\_T\\\\\n",
       "\t4 & 5.24900e-11 & 0.00346153 & 0.002427906 & 0.004495154 &       NA &      NA &       NA & 349856 & 0.9344045 & NA & 1\\_154432548\\_A\\_G & rs56383622 & NEALE2\\_30130\\_raw  & NA & UKB Neale v2 & 2018-08-01 & Monocyte count                                             & 1\\_154453788\\_C\\_T\\\\\n",
       "\t5 & 2.37000e-13 & 0.04726770 & 0.034621819 & 0.059913581 &       NA &      NA &       NA & 349861 & 0.9344045 & NA & 1\\_154432548\\_A\\_G & rs56383622 & NEALE2\\_30190\\_raw  & NA & UKB Neale v2 & 2018-08-01 & Monocyte percentage                                        & 1\\_154453788\\_C\\_T\\\\\n",
       "\t6 & 2.39840e-09 & 0.07617190 & 0.051157400 & 0.101186400 &       NA &      NA &       NA & 344729 & 0.8862283 & NA & 1\\_154442920\\_C\\_A & rs4845372  & NEALE2\\_30270\\_raw  & NA & UKB Neale v2 & 2018-08-01 & Mean sphered cell volume                                   & 1\\_154453788\\_C\\_T\\\\\n",
       "\\end{tabular}\n"
      ],
      "text/markdown": [
       "\n",
       "A data.frame: 6 × 18\n",
       "\n",
       "| <!--/--> | pval &lt;dbl&gt; | beta &lt;dbl&gt; | betaCILower &lt;dbl&gt; | betaCIUpper &lt;dbl&gt; | oddsRatio &lt;dbl&gt; | oddsRatioCILower &lt;dbl&gt; | oddsRatioCIUpper &lt;dbl&gt; | nTotal &lt;int&gt; | overallR2 &lt;dbl&gt; | posteriorProbability &lt;dbl&gt; | indexVariant.id &lt;chr&gt; | indexVariant.rsId &lt;chr&gt; | study.studyId &lt;chr&gt; | study.pmid &lt;chr&gt; | study.pubAuthor &lt;chr&gt; | study.pubDate &lt;chr&gt; | study.traitReported &lt;chr&gt; | input_variant &lt;chr&gt; |\n",
       "|---|---|---|---|---|---|---|---|---|---|---|---|---|---|---|---|---|---|---|\n",
       "| 1 | 1.00000e-15 | 0.08527000 | 0.064340140 | 0.106199860 |       NA |      NA |       NA | 350473 | 0.7998190 | NA | 1_154422736_C_A | rs4133213  | NEALE2_30040_raw  | NA | UKB Neale v2 | 2018-08-01 | Mean corpuscular volume                                    | 1_154453788_C_T |\n",
       "| 2 | 3.37230e-11 | 0.02949380 | 0.020774054 | 0.038213546 |       NA |      NA |       NA | 350472 | 0.7998190 | NA | 1_154422736_C_A | rs4133213  | NEALE2_30050_raw  | NA | UKB Neale v2 | 2018-08-01 | Mean corpuscular haemoglobin                               | 1_154453788_C_T |\n",
       "| 3 | 8.71337e-09 |         NA |          NA |          NA | 1.092253 | 1.05991 | 1.125582 | 361141 | 0.9008478 | NA | 1_154423363_C_T | rs6684439  | NEALE2_20002_1452 | NA | UKB Neale v2 | 2018-08-01 | Eczema/dermatitis | non-cancer illness code, self-reported | 1_154453788_C_T |\n",
       "| 4 | 5.24900e-11 | 0.00346153 | 0.002427906 | 0.004495154 |       NA |      NA |       NA | 349856 | 0.9344045 | NA | 1_154432548_A_G | rs56383622 | NEALE2_30130_raw  | NA | UKB Neale v2 | 2018-08-01 | Monocyte count                                             | 1_154453788_C_T |\n",
       "| 5 | 2.37000e-13 | 0.04726770 | 0.034621819 | 0.059913581 |       NA |      NA |       NA | 349861 | 0.9344045 | NA | 1_154432548_A_G | rs56383622 | NEALE2_30190_raw  | NA | UKB Neale v2 | 2018-08-01 | Monocyte percentage                                        | 1_154453788_C_T |\n",
       "| 6 | 2.39840e-09 | 0.07617190 | 0.051157400 | 0.101186400 |       NA |      NA |       NA | 344729 | 0.8862283 | NA | 1_154442920_C_A | rs4845372  | NEALE2_30270_raw  | NA | UKB Neale v2 | 2018-08-01 | Mean sphered cell volume                                   | 1_154453788_C_T |\n",
       "\n"
      ],
      "text/plain": [
       "  pval        beta       betaCILower betaCIUpper oddsRatio oddsRatioCILower\n",
       "1 1.00000e-15 0.08527000 0.064340140 0.106199860       NA       NA         \n",
       "2 3.37230e-11 0.02949380 0.020774054 0.038213546       NA       NA         \n",
       "3 8.71337e-09         NA          NA          NA 1.092253  1.05991         \n",
       "4 5.24900e-11 0.00346153 0.002427906 0.004495154       NA       NA         \n",
       "5 2.37000e-13 0.04726770 0.034621819 0.059913581       NA       NA         \n",
       "6 2.39840e-09 0.07617190 0.051157400 0.101186400       NA       NA         \n",
       "  oddsRatioCIUpper nTotal overallR2 posteriorProbability indexVariant.id\n",
       "1       NA         350473 0.7998190 NA                   1_154422736_C_A\n",
       "2       NA         350472 0.7998190 NA                   1_154422736_C_A\n",
       "3 1.125582         361141 0.9008478 NA                   1_154423363_C_T\n",
       "4       NA         349856 0.9344045 NA                   1_154432548_A_G\n",
       "5       NA         349861 0.9344045 NA                   1_154432548_A_G\n",
       "6       NA         344729 0.8862283 NA                   1_154442920_C_A\n",
       "  indexVariant.rsId study.studyId     study.pmid study.pubAuthor study.pubDate\n",
       "1 rs4133213         NEALE2_30040_raw  NA         UKB Neale v2    2018-08-01   \n",
       "2 rs4133213         NEALE2_30050_raw  NA         UKB Neale v2    2018-08-01   \n",
       "3 rs6684439         NEALE2_20002_1452 NA         UKB Neale v2    2018-08-01   \n",
       "4 rs56383622        NEALE2_30130_raw  NA         UKB Neale v2    2018-08-01   \n",
       "5 rs56383622        NEALE2_30190_raw  NA         UKB Neale v2    2018-08-01   \n",
       "6 rs4845372         NEALE2_30270_raw  NA         UKB Neale v2    2018-08-01   \n",
       "  study.traitReported                                        input_variant  \n",
       "1 Mean corpuscular volume                                    1_154453788_C_T\n",
       "2 Mean corpuscular haemoglobin                               1_154453788_C_T\n",
       "3 Eczema/dermatitis | non-cancer illness code, self-reported 1_154453788_C_T\n",
       "4 Monocyte count                                             1_154453788_C_T\n",
       "5 Monocyte percentage                                        1_154453788_C_T\n",
       "6 Mean sphered cell volume                                   1_154453788_C_T"
      ]
     },
     "metadata": {},
     "output_type": "display_data"
    }
   ],
   "source": [
    "head(getVariantInfo(selected_variant_b))"
   ]
  },
  {
   "cell_type": "code",
   "execution_count": null,
   "metadata": {},
   "outputs": [],
   "source": []
  }
 ],
 "metadata": {
  "kernelspec": {
   "display_name": "R",
   "language": "R",
   "name": "ir"
  },
  "language_info": {
   "codemirror_mode": "r",
   "file_extension": ".r",
   "mimetype": "text/x-r-source",
   "name": "R",
   "pygments_lexer": "r",
   "version": "3.6.1"
  }
 },
 "nbformat": 4,
 "nbformat_minor": 4
}
