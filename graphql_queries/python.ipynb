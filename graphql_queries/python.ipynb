{
 "cells": [
  {
   "cell_type": "code",
   "execution_count": 12,
   "metadata": {},
   "outputs": [],
   "source": [
    "#import subprocess\n",
    "#import json\n",
    "\n",
    "#gene_id='ENSG00000188906'"
   ]
  },
  {
   "cell_type": "code",
   "execution_count": 34,
   "metadata": {},
   "outputs": [],
   "source": [
    "# output = subprocess.check_output(\"curl -X POST https://genetics-api.opentargets.io/graphql -H 'Content-Type: application/json' -d @query.json\",universal_newlines=True,shell=True)\n",
    "# json_config = json.loads(output)\n"
   ]
  },
  {
   "cell_type": "code",
   "execution_count": 35,
   "metadata": {},
   "outputs": [
    {
     "data": {
      "text/plain": [
       "'2_97131943_T_C'"
      ]
     },
     "execution_count": 35,
     "metadata": {},
     "output_type": "execute_result"
    }
   ],
   "source": [
    "# json_config['data']['studiesAndLeadVariantsForGeneByL2G'][0]['variant']['id']"
   ]
  },
  {
   "cell_type": "code",
   "execution_count": 22,
   "metadata": {},
   "outputs": [],
   "source": []
  },
  {
   "cell_type": "code",
   "execution_count": 13,
   "metadata": {},
   "outputs": [],
   "source": [
    "import requests\n",
    "import pandas as pd\n",
    "import json\n",
    "from pandas.io.json import json_normalize"
   ]
  },
  {
   "cell_type": "code",
   "execution_count": 14,
   "metadata": {},
   "outputs": [],
   "source": [
    "def gene_coloc_open_targets_query(geneid):\n",
    "  \"\"\"\n",
    "  queries open targets for colocalization data given gene ENSEMBL id \n",
    "  \"\"\"\n",
    "  api_query = f'''query {{  \n",
    "    colocalisationsForGene(geneId: \"{geneid}\") {{\n",
    "      study{{\n",
    "        studyId\n",
    "        traitReported\n",
    "        pubAuthor\n",
    "      }}\n",
    "      leftVariant {{\n",
    "        id\n",
    "      }}\n",
    "      phenotypeId\n",
    "      tissue {{\n",
    "        id\n",
    "        name\n",
    "      }}\n",
    "      qtlStudyId\n",
    "      h3\n",
    "      h4\n",
    "      log2h4h3 \n",
    "    }}\n",
    "  }}'''\n",
    "\n",
    "  #set base_url for Open Targets Genetics Portal API\n",
    "  base_url = \"http://genetics-api.opentargets.io/graphql\"\n",
    "\n",
    "  #perform API call and check status code of response\n",
    "  r = requests.post(base_url, json={'query': api_query})\n",
    "  if str(r.status_code) == '400':\n",
    "    print(f'{geneid} query status code: {r.status_code}')\n",
    "  \n",
    "  else:\n",
    "    pass\n",
    " \n",
    "  api_response_as_json = json.loads(r.text)\n",
    "\n",
    "  \n",
    "  \n",
    "  return api_response_as_json"
   ]
  },
  {
   "cell_type": "code",
   "execution_count": 15,
   "metadata": {},
   "outputs": [],
   "source": [
    "coloc_query = gene_coloc_open_targets_query(gene_id)\n",
    "coloc_query_df = json_normalize(coloc_query['data']['colocalisationsForGene'])\n",
    "coloc_query_df.head()\n",
    "coloc_query_df.to_csv('{}_coloc_info.tsv'.format(gene_id),index=False,sep='\\t')"
   ]
  },
  {
   "cell_type": "code",
   "execution_count": null,
   "metadata": {},
   "outputs": [],
   "source": []
  }
 ],
 "metadata": {
  "kernelspec": {
   "display_name": "Python 3",
   "language": "python",
   "name": "python3"
  },
  "language_info": {
   "codemirror_mode": {
    "name": "ipython",
    "version": 3
   },
   "file_extension": ".py",
   "mimetype": "text/x-python",
   "name": "python",
   "nbconvert_exporter": "python",
   "pygments_lexer": "ipython3",
   "version": "3.7.6"
  }
 },
 "nbformat": 4,
 "nbformat_minor": 4
}
