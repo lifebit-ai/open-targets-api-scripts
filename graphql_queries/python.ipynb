{
 "cells": [
  {
   "cell_type": "code",
   "execution_count": 1,
   "metadata": {},
   "outputs": [],
   "source": [
    "import subprocess\n",
    "import json"
   ]
  },
  {
   "cell_type": "code",
   "execution_count": 34,
   "metadata": {},
   "outputs": [],
   "source": [
    "output = subprocess.check_output(\"curl -X POST https://genetics-api.opentargets.io/graphql -H 'Content-Type: application/json' -d @query.json\",universal_newlines=True,shell=True)\n",
    "json_config = json.loads(output)\n"
   ]
  },
  {
   "cell_type": "code",
   "execution_count": 35,
   "metadata": {},
   "outputs": [
    {
     "data": {
      "text/plain": [
       "'2_97131943_T_C'"
      ]
     },
     "execution_count": 35,
     "metadata": {},
     "output_type": "execute_result"
    }
   ],
   "source": [
    "json_config['data']['studiesAndLeadVariantsForGeneByL2G'][0]['variant']['id']"
   ]
  },
  {
   "cell_type": "code",
   "execution_count": 22,
   "metadata": {},
   "outputs": [],
   "source": [
    "###"
   ]
  },
  {
   "cell_type": "code",
   "execution_count": 23,
   "metadata": {},
   "outputs": [],
   "source": [
    "import requests\n",
    "import pandas as pd\n",
    "import json"
   ]
  },
  {
   "cell_type": "code",
   "execution_count": 36,
   "metadata": {},
   "outputs": [],
   "source": [
    "def gene_coloc_open_targets_query(geneid):\n",
    "  \"\"\"\n",
    "  queries open targets for colocalization data given gene ENSEMBL id \n",
    "  \"\"\"\n",
    "  api_query = f'''query {{  \n",
    "    colocalisationsForGene(geneId: \"{geneid}\") {{\n",
    "      study{{\n",
    "        studyId\n",
    "        traitReported\n",
    "        pubAuthor\n",
    "      }}\n",
    "      leftVariant {{\n",
    "        id\n",
    "      }}\n",
    "      phenotypeId\n",
    "      tissue {{\n",
    "        id\n",
    "        name\n",
    "      }}\n",
    "      qtlStudyId\n",
    "      h3\n",
    "      h4\n",
    "      log2h4h3 \n",
    "    }}\n",
    "  }}'''\n",
    "\n",
    "  #set base_url for Open Targets Genetics Portal API\n",
    "  base_url = \"http://genetics-api.opentargets.io/graphql\"\n",
    "\n",
    "  #perform API call and check status code of response\n",
    "  r = requests.post(base_url, json={'query': api_query})\n",
    "  if str(r.status_code) == '400':\n",
    "    print(f'{geneid} query status code: {r.status_code}')\n",
    "  \n",
    "  else:\n",
    "    pass\n",
    " \n",
    "  api_response_as_json = json.loads(r.text)\n",
    "  \n",
    "  return api_response_as_json"
   ]
  },
  {
   "cell_type": "code",
   "execution_count": 38,
   "metadata": {},
   "outputs": [
    {
     "data": {
      "text/html": [
       "<div>\n",
       "<style scoped>\n",
       "    .dataframe tbody tr th:only-of-type {\n",
       "        vertical-align: middle;\n",
       "    }\n",
       "\n",
       "    .dataframe tbody tr th {\n",
       "        vertical-align: top;\n",
       "    }\n",
       "\n",
       "    .dataframe thead th {\n",
       "        text-align: right;\n",
       "    }\n",
       "</style>\n",
       "<table border=\"1\" class=\"dataframe\">\n",
       "  <thead>\n",
       "    <tr style=\"text-align: right;\">\n",
       "      <th></th>\n",
       "      <th>phenotypeId</th>\n",
       "      <th>qtlStudyId</th>\n",
       "      <th>h3</th>\n",
       "      <th>h4</th>\n",
       "      <th>log2h4h3</th>\n",
       "      <th>study.studyId</th>\n",
       "      <th>study.traitReported</th>\n",
       "      <th>study.pubAuthor</th>\n",
       "      <th>leftVariant.id</th>\n",
       "      <th>tissue.id</th>\n",
       "      <th>tissue.name</th>\n",
       "    </tr>\n",
       "  </thead>\n",
       "  <tbody>\n",
       "    <tr>\n",
       "      <th>0</th>\n",
       "      <td>ILMN_1776649</td>\n",
       "      <td>CEDAR</td>\n",
       "      <td>0.168114</td>\n",
       "      <td>0.802538</td>\n",
       "      <td>2.255127</td>\n",
       "      <td>NEALE2_1518</td>\n",
       "      <td>Hot drink temperature</td>\n",
       "      <td>UKB Neale v2</td>\n",
       "      <td>12_40120934_C_T</td>\n",
       "      <td>MONOCYTE_CD14</td>\n",
       "      <td>Monocyte cd14</td>\n",
       "    </tr>\n",
       "    <tr>\n",
       "      <th>1</th>\n",
       "      <td>ILMN_2226015</td>\n",
       "      <td>FAIRFAX_2014</td>\n",
       "      <td>0.096294</td>\n",
       "      <td>0.903701</td>\n",
       "      <td>3.230331</td>\n",
       "      <td>NEALE2_1518</td>\n",
       "      <td>Hot drink temperature</td>\n",
       "      <td>UKB Neale v2</td>\n",
       "      <td>12_40120934_C_T</td>\n",
       "      <td>MONOCYTE_NAIVE</td>\n",
       "      <td>Monocyte naive</td>\n",
       "    </tr>\n",
       "    <tr>\n",
       "      <th>2</th>\n",
       "      <td>ENSG00000188906</td>\n",
       "      <td>GTEX_v7</td>\n",
       "      <td>0.114220</td>\n",
       "      <td>0.885776</td>\n",
       "      <td>2.955133</td>\n",
       "      <td>NEALE2_1518</td>\n",
       "      <td>Hot drink temperature</td>\n",
       "      <td>UKB Neale v2</td>\n",
       "      <td>12_40120934_C_T</td>\n",
       "      <td>UBERON_0000178</td>\n",
       "      <td>Blood</td>\n",
       "    </tr>\n",
       "    <tr>\n",
       "      <th>3</th>\n",
       "      <td>ENSG00000188906</td>\n",
       "      <td>GTEX_v7</td>\n",
       "      <td>0.212089</td>\n",
       "      <td>0.731180</td>\n",
       "      <td>1.785553</td>\n",
       "      <td>NEALE2_1518</td>\n",
       "      <td>Hot drink temperature</td>\n",
       "      <td>UKB Neale v2</td>\n",
       "      <td>12_40120934_C_T</td>\n",
       "      <td>UBERON_0001873</td>\n",
       "      <td>Brain caudate basal ganglia</td>\n",
       "    </tr>\n",
       "    <tr>\n",
       "      <th>4</th>\n",
       "      <td>ENSG00000188906</td>\n",
       "      <td>TWINSUK</td>\n",
       "      <td>0.094102</td>\n",
       "      <td>0.904763</td>\n",
       "      <td>3.265243</td>\n",
       "      <td>NEALE2_1518</td>\n",
       "      <td>Hot drink temperature</td>\n",
       "      <td>UKB Neale v2</td>\n",
       "      <td>12_40120934_C_T</td>\n",
       "      <td>UBERON_0000178</td>\n",
       "      <td>Blood</td>\n",
       "    </tr>\n",
       "  </tbody>\n",
       "</table>\n",
       "</div>"
      ],
      "text/plain": [
       "       phenotypeId    qtlStudyId        h3        h4  log2h4h3 study.studyId  \\\n",
       "0     ILMN_1776649         CEDAR  0.168114  0.802538  2.255127   NEALE2_1518   \n",
       "1     ILMN_2226015  FAIRFAX_2014  0.096294  0.903701  3.230331   NEALE2_1518   \n",
       "2  ENSG00000188906       GTEX_v7  0.114220  0.885776  2.955133   NEALE2_1518   \n",
       "3  ENSG00000188906       GTEX_v7  0.212089  0.731180  1.785553   NEALE2_1518   \n",
       "4  ENSG00000188906       TWINSUK  0.094102  0.904763  3.265243   NEALE2_1518   \n",
       "\n",
       "     study.traitReported study.pubAuthor   leftVariant.id       tissue.id  \\\n",
       "0  Hot drink temperature    UKB Neale v2  12_40120934_C_T   MONOCYTE_CD14   \n",
       "1  Hot drink temperature    UKB Neale v2  12_40120934_C_T  MONOCYTE_NAIVE   \n",
       "2  Hot drink temperature    UKB Neale v2  12_40120934_C_T  UBERON_0000178   \n",
       "3  Hot drink temperature    UKB Neale v2  12_40120934_C_T  UBERON_0001873   \n",
       "4  Hot drink temperature    UKB Neale v2  12_40120934_C_T  UBERON_0000178   \n",
       "\n",
       "                   tissue.name  \n",
       "0                Monocyte cd14  \n",
       "1               Monocyte naive  \n",
       "2                        Blood  \n",
       "3  Brain caudate basal ganglia  \n",
       "4                        Blood  "
      ]
     },
     "execution_count": 38,
     "metadata": {},
     "output_type": "execute_result"
    }
   ],
   "source": [
    "from pandas.io.json import json_normalize\n",
    "\n",
    "coloc_query = gene_coloc_open_targets_query('ENSG00000188906')\n",
    "coloc_query_df = json_normalize(coloc_query['data']['colocalisationsForGene'])\n",
    "coloc_query_df.head()"
   ]
  },
  {
   "cell_type": "code",
   "execution_count": null,
   "metadata": {},
   "outputs": [],
   "source": []
  }
 ],
 "metadata": {
  "kernelspec": {
   "display_name": "Python 3",
   "language": "python",
   "name": "python3"
  },
  "language_info": {
   "codemirror_mode": {
    "name": "ipython",
    "version": 3
   },
   "file_extension": ".py",
   "mimetype": "text/x-python",
   "name": "python",
   "nbconvert_exporter": "python",
   "pygments_lexer": "ipython3",
   "version": "3.7.6"
  }
 },
 "nbformat": 4,
 "nbformat_minor": 4
}
